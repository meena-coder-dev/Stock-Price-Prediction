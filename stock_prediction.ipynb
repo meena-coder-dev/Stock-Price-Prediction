{
 "cells": [
  {
   "cell_type": "code",
   "execution_count": null,
   "id": "bf1fccf2-6e17-459f-bab1-13c16a3af8e2",
   "metadata": {},
   "outputs": [],
   "source": [
    "# Stock Price Prediction - Kuncham Meenakshi\n",
    "\n",
    "import pandas as pd\n",
    "from sklearn.linear_model import LinearRegression\n",
    "import matplotlib.pyplot as plt\n",
    "\n",
    "# Load dataset\n",
    "df = pd.read_csv(\"dataset.csv\")\n",
    "print(df.head())\n",
    "\n",
    "# Prepare data\n",
    "X = df.index.values.reshape(-1,1)  # day number\n",
    "y = df[\"Close\"].values\n",
    "\n",
    "# Train model\n",
    "model = LinearRegression()\n",
    "model.fit(X, y)\n",
    "\n",
    "# Predict next day\n",
    "next_day = [[len(df)]]\n",
    "pred = model.predict(next_day)\n",
    "print(\"Predicted next day closing price:\", pred[0])\n",
    "\n",
    "# Plot\n",
    "plt.plot(df[\"Date\"], y, label=\"Actual Price\")\n",
    "plt.plot(df[\"Date\"], model.predict(X), label=\"Predicted Trend\")\n",
    "plt.xlabel(\"Date\")\n",
    "plt.ylabel(\"Closing Price\")\n",
    "plt.title(\"Stock Price Prediction\")\n",
    "plt.legend()\n",
    "plt.show()\n"
   ]
  }
 ],
 "metadata": {
  "kernelspec": {
   "display_name": "Python 3 (ipykernel)",
   "language": "python",
   "name": "python3"
  },
  "language_info": {
   "codemirror_mode": {
    "name": "ipython",
    "version": 3
   },
   "file_extension": ".py",
   "mimetype": "text/x-python",
   "name": "python",
   "nbconvert_exporter": "python",
   "pygments_lexer": "ipython3",
   "version": "3.13.7"
  }
 },
 "nbformat": 4,
 "nbformat_minor": 5
}
